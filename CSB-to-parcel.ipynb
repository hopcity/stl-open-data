{
 "cells": [
  {
   "cell_type": "code",
   "execution_count": 4,
   "metadata": {},
   "outputs": [
    {
     "data": {
      "text/html": [
       "<style>.container { width:100% !important; }</style>"
      ],
      "text/plain": [
       "<IPython.core.display.HTML object>"
      ]
     },
     "metadata": {},
     "output_type": "display_data"
    }
   ],
   "source": [
    "%matplotlib inline\n",
    "import geopandas\n",
    "import pandas\n",
    "import os\n",
    "import glob\n",
    "\n",
    "import dateutil\n",
    "import datetime\n",
    "\n",
    "from simpledbf import Dbf5\n",
    "import pandas_access as mdb\n",
    "\n",
    "\n",
    "pandas.set_option(\"display.max_columns\",999)\n",
    "\n",
    "from IPython.core.display import display, HTML\n",
    "display(HTML(\"<style>.container { width:100% !important; }</style>\"))"
   ]
  },
  {
   "cell_type": "code",
   "execution_count": null,
   "metadata": {},
   "outputs": [],
   "source": [
    "import parcels_import\n",
    "parcels = parcels_import.parcels\n",
    "parcels.head()"
   ]
  },
  {
   "cell_type": "markdown",
   "metadata": {},
   "source": [
    "## Read in CSB data\n",
    "* subset data to only last 180 days"
   ]
  },
  {
   "cell_type": "code",
   "execution_count": null,
   "metadata": {},
   "outputs": [],
   "source": [
    "csb = mdb.read_table(\"data/open-data-extracted/csb/cityworks.mdb\", \"dbo_vw_public\")\n",
    "\n",
    "start_search_timestamp = (datetime.datetime.now() - datetime.timedelta(days=180))\n",
    "csb.loc[:,'StartDate'] = csb.DATETIMEINIT.map(dateutil.parser.parse)\n",
    "\n",
    "csb = csb[csb.StartDate.apply(lambda x: x.to_pydatetime().timestamp() > start_search_timestamp.timestamp())]\n",
    "csb.reset_index(inplace=True,drop=True)\n",
    "\n",
    "csb.tail()"
   ]
  },
  {
   "cell_type": "markdown",
   "metadata": {},
   "source": [
    "### Join CSB and Parcel data\n",
    "* subset to Marine Villa only"
   ]
  },
  {
   "cell_type": "code",
   "execution_count": null,
   "metadata": {
    "collapsed": true
   },
   "outputs": [],
   "source": [
    "problem_address = csb.groupby('PROBADDRESS').REQUESTID.count().sort_values(ascending=False)\n",
    "\n",
    "problem_address = pandas.DataFrame(problem_address)\n",
    "problem_address.reset_index(level=0, inplace=True)\n",
    "\n",
    "problem_address.loc[:,'PROBADDRESS'] = problem_address.PROBADDRESS.apply(lambda x: x.replace('.',''))\n",
    "problem_address.rename(columns=({'REQUESTID':'CSB_Isues_Last180Days'}),inplace=True)\n",
    "\n",
    "parcels = pandas.merge(parcels,problem_address,left_on='SITEADDR',right_on='PROBADDRESS',how='left')"
   ]
  },
  {
   "cell_type": "code",
   "execution_count": null,
   "metadata": {
    "collapsed": true
   },
   "outputs": [],
   "source": [
    "parcels_MV = parcels[(~parcels.PROBADDRESS.isnull()) & (parcels.NHD_NAME.isin(['Marine Villa']))][['HANDLE','geometry','UPDATED','OwnerName','OwnerAddr','OwnerCity','OwnerState','SITEADDR','LowAddrNum','StName','NHD_NAME','PROBADDRESS']]\n",
    "parcels_MV = pandas.merge(parcels_MV,csb,on='PROBADDRESS')"
   ]
  },
  {
   "cell_type": "code",
   "execution_count": null,
   "metadata": {
    "collapsed": true
   },
   "outputs": [],
   "source": [
    "parcels_MV.reset_index(inplace=True,drop=True)"
   ]
  },
  {
   "cell_type": "code",
   "execution_count": null,
   "metadata": {
    "collapsed": true
   },
   "outputs": [],
   "source": [
    "parcels_MV.to_csv('parcels_MV_v1.csv',index=False)"
   ]
  },
  {
   "cell_type": "code",
   "execution_count": null,
   "metadata": {},
   "outputs": [],
   "source": [
    "parcels_MV.groupby('CALLERTYPE').PROBADDRESS.count().sort_values(ascending=False)"
   ]
  },
  {
   "cell_type": "code",
   "execution_count": null,
   "metadata": {},
   "outputs": [],
   "source": [
    "parcels_MV.groupby('PROBLEMCODE').PROBADDRESS.count().sort_values(ascending=False)"
   ]
  },
  {
   "cell_type": "code",
   "execution_count": null,
   "metadata": {},
   "outputs": [],
   "source": [
    "parcels[parcels.apply(lambda x: 'Marine Villa' in x['NHD_NAME'],axis=1)]"
   ]
  },
  {
   "cell_type": "code",
   "execution_count": null,
   "metadata": {
    "scrolled": true
   },
   "outputs": [],
   "source": [
    "parcels.groupby('NHD_NAME').CSB_Isues_Last180Days.sum().sort_values(ascending=False).head(30)"
   ]
  },
  {
   "cell_type": "code",
   "execution_count": null,
   "metadata": {},
   "outputs": [],
   "source": [
    "parcels_per_neighborhood = parcels.groupby('NHD_NAME').HANDLE.count().sort_values(ascending=False)\n",
    "print(sum(parcels_per_neighborhood))\n",
    "parcels_per_neighborhood"
   ]
  },
  {
   "cell_type": "code",
   "execution_count": null,
   "metadata": {},
   "outputs": [],
   "source": [
    "(parcels.groupby('NHD_NAME').CSB_Isues_Last180Days.sum() / parcels_per_neighborhood).sort_values(ascending=False).head(30)"
   ]
  },
  {
   "cell_type": "code",
   "execution_count": null,
   "metadata": {},
   "outputs": [],
   "source": [
    "(parcels.groupby('NHD_NAME').CSB_Isues_Last180Days.sum() / parcels_per_neighborhood).sort_values(ascending=False).head(30).plot('bar',figsize=(30,15),title='CSB Requests Rate for last 180 Days by Parcel Count Per Neighborhood')"
   ]
  },
  {
   "cell_type": "code",
   "execution_count": null,
   "metadata": {},
   "outputs": [],
   "source": [
    "parcels.groupby('NHD_NAME').CSB_Isues_Last180Days.sum().sort_values(ascending=False).head(30).astype(int)"
   ]
  },
  {
   "cell_type": "code",
   "execution_count": null,
   "metadata": {
    "collapsed": true
   },
   "outputs": [],
   "source": [
    "parcels[parcels.NHD_NAME=='Marine Villa'].REQUESTID.sum()"
   ]
  },
  {
   "cell_type": "code",
   "execution_count": null,
   "metadata": {
    "collapsed": true
   },
   "outputs": [],
   "source": [
    "parcels[parcels.NHD_NAME=='Marine Villa'].groupby('OWNERNAME').HANDLE.count().sort_values(ascending=False)"
   ]
  },
  {
   "cell_type": "code",
   "execution_count": null,
   "metadata": {
    "collapsed": true
   },
   "outputs": [],
   "source": [
    "parcels.columns.Address.unique()"
   ]
  },
  {
   "cell_type": "code",
   "execution_count": null,
   "metadata": {
    "collapsed": true,
    "scrolled": false
   },
   "outputs": [],
   "source": [
    "parcels.to_csv('parcels_out.csv')"
   ]
  },
  {
   "cell_type": "code",
   "execution_count": null,
   "metadata": {
    "collapsed": true
   },
   "outputs": [],
   "source": [
    "parcels = pandas.merge(parcels,tax_sales,left_on='SITEADDR',right_on='Address',how='left')"
   ]
  },
  {
   "cell_type": "code",
   "execution_count": null,
   "metadata": {
    "collapsed": true
   },
   "outputs": [],
   "source": [
    "parcels.loc[:,'geometry_centroid'] = parcels.centroid"
   ]
  }
 ],
 "metadata": {
  "kernelspec": {
   "display_name": "Python [conda env:geo3]",
   "language": "python",
   "name": "conda-env-geo3-py"
  },
  "language_info": {
   "codemirror_mode": {
    "name": "ipython",
    "version": 3
   },
   "file_extension": ".py",
   "mimetype": "text/x-python",
   "name": "python",
   "nbconvert_exporter": "python",
   "pygments_lexer": "ipython3",
   "version": "3.5.3"
  }
 },
 "nbformat": 4,
 "nbformat_minor": 2
}
